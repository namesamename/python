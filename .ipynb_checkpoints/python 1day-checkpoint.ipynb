{
 "cells": [
  {
   "cell_type": "code",
   "execution_count": 1,
   "id": "826033d5",
   "metadata": {},
   "outputs": [
    {
     "name": "stdout",
     "output_type": "stream",
     "text": [
      "집에 가고 싶다\n"
     ]
    }
   ],
   "source": [
    "print('집에 가고 싶다')"
   ]
  },
  {
   "cell_type": "code",
   "execution_count": 2,
   "id": "a5086ac1",
   "metadata": {},
   "outputs": [
    {
     "data": {
      "text/plain": [
       "15442131213"
      ]
     },
     "execution_count": 2,
     "metadata": {},
     "output_type": "execute_result"
    }
   ],
   "source": [
    "15442131213"
   ]
  },
  {
   "cell_type": "code",
   "execution_count": 3,
   "id": "3e1dab4b",
   "metadata": {},
   "outputs": [
    {
     "ename": "SyntaxError",
     "evalue": "invalid syntax (541403258.py, line 1)",
     "output_type": "error",
     "traceback": [
      "\u001b[1;36m  Input \u001b[1;32mIn [3]\u001b[1;36m\u001b[0m\n\u001b[1;33m    import and math\u001b[0m\n\u001b[1;37m           ^\u001b[0m\n\u001b[1;31mSyntaxError\u001b[0m\u001b[1;31m:\u001b[0m invalid syntax\n"
     ]
    }
   ],
   "source": [
    "import and math\n",
    "ran=random()\n",
    "print(str(ran))"
   ]
  },
  {
   "cell_type": "code",
   "execution_count": 4,
   "id": "9293e204",
   "metadata": {},
   "outputs": [
    {
     "data": {
      "text/plain": [
       "'현재 위치'"
      ]
     },
     "execution_count": 4,
     "metadata": {},
     "output_type": "execute_result"
    }
   ],
   "source": [
    "\"현재 위치\""
   ]
  },
  {
   "cell_type": "code",
   "execution_count": 5,
   "id": "40d9d452",
   "metadata": {},
   "outputs": [
    {
     "data": {
      "text/plain": [
       "'현재 위치'"
      ]
     },
     "execution_count": 5,
     "metadata": {},
     "output_type": "execute_result"
    }
   ],
   "source": [
    "'현재 위치'"
   ]
  },
  {
   "cell_type": "code",
   "execution_count": null,
   "id": "6dc13a53",
   "metadata": {},
   "outputs": [],
   "source": [
    "'현재 위치'"
   ]
  }
 ],
 "metadata": {
  "kernelspec": {
   "display_name": "Python 3 (ipykernel)",
   "language": "python",
   "name": "python3"
  },
  "language_info": {
   "codemirror_mode": {
    "name": "ipython",
    "version": 3
   },
   "file_extension": ".py",
   "mimetype": "text/x-python",
   "name": "python",
   "nbconvert_exporter": "python",
   "pygments_lexer": "ipython3",
   "version": "3.8.7"
  }
 },
 "nbformat": 4,
 "nbformat_minor": 5
}
