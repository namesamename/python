{
 "cells": [
  {
   "cell_type": "markdown",
   "id": "842cb9bc",
   "metadata": {},
   "source": [
    "### 파이썬 기초 3일 차\n",
    "교환 법칙"
   ]
  },
  {
   "cell_type": "code",
   "execution_count": 10,
   "id": "2629b887",
   "metadata": {},
   "outputs": [
    {
     "name": "stdout",
     "output_type": "stream",
     "text": [
      "첫 번째 숫자 입력: 127\n",
      "두 번째 숫자 입력: 825\n",
      "첫 번째 숫자 127, 두 번째 숫자 825\n"
     ]
    }
   ],
   "source": [
    "num1=input('첫 번째 숫자 입력: ')\n",
    "# num1=int(num1)\n",
    "num2=input('두 번째 숫자 입력: ')\n",
    "\n",
    "print('첫 번째 숫자 {}, 두 번째 숫자 {}'.format(num1, num2))"
   ]
  },
  {
   "cell_type": "markdown",
   "id": "1f277ec3",
   "metadata": {},
   "source": [
    "알고리즘: 이미 작성되어 있는 프로그래밍"
   ]
  },
  {
   "cell_type": "code",
   "execution_count": 11,
   "id": "39e3ea74",
   "metadata": {},
   "outputs": [
    {
     "name": "stdout",
     "output_type": "stream",
     "text": [
      "첫 번째 숫자 825, 두 번째 숫자 127\n"
     ]
    }
   ],
   "source": [
    "num3=num1\n",
    "num1=num2\n",
    "num2=num3\n",
    "\n",
    "print('첫 번째 숫자 {}, 두 번째 숫자 {}'.format(num1,num2))"
   ]
  },
  {
   "cell_type": "code",
   "execution_count": 12,
   "id": "a24ceec8",
   "metadata": {},
   "outputs": [
    {
     "name": "stdout",
     "output_type": "stream",
     "text": [
      "첫 번째 숫자 입력: 100\n",
      "두 번째 숫자 입력: 200\n"
     ]
    },
    {
     "ename": "TypeError",
     "evalue": "type() takes 1 or 3 arguments",
     "output_type": "error",
     "traceback": [
      "\u001b[1;31m---------------------------------------------------------------------------\u001b[0m",
      "\u001b[1;31mTypeError\u001b[0m                                 Traceback (most recent call last)",
      "Input \u001b[1;32mIn [12]\u001b[0m, in \u001b[0;36m<cell line: 8>\u001b[1;34m()\u001b[0m\n\u001b[0;32m      5\u001b[0m num2\u001b[38;5;241m=\u001b[39m\u001b[38;5;28minput\u001b[39m(\u001b[38;5;124m'\u001b[39m\u001b[38;5;124m두 번째 숫자 입력: \u001b[39m\u001b[38;5;124m'\u001b[39m)\n\u001b[0;32m      6\u001b[0m num2\u001b[38;5;241m=\u001b[39m\u001b[38;5;28mint\u001b[39m(num2)\n\u001b[1;32m----> 8\u001b[0m \u001b[38;5;28mprint\u001b[39m(\u001b[38;5;28;43mtype\u001b[39;49m\u001b[43m(\u001b[49m\u001b[43mnum1\u001b[49m\u001b[43m,\u001b[49m\u001b[43mnum2\u001b[49m\u001b[43m)\u001b[49m)\n",
      "\u001b[1;31mTypeError\u001b[0m: type() takes 1 or 3 arguments"
     ]
    }
   ],
   "source": [
    "#자료형 변환\n",
    "\n",
    "num1=input('첫 번째 숫자 입력: ')\n",
    "num1=int(num1)\n",
    "num2=input('두 번째 숫자 입력: ')\n",
    "num2=int(num2)\n",
    "\n",
    "print(type(num1),type(num2))"
   ]
  },
  {
   "cell_type": "code",
   "execution_count": null,
   "id": "d8f469e3",
   "metadata": {},
   "outputs": [],
   "source": []
  }
 ],
 "metadata": {
  "kernelspec": {
   "display_name": "Python 3 (ipykernel)",
   "language": "python",
   "name": "python3"
  },
  "language_info": {
   "codemirror_mode": {
    "name": "ipython",
    "version": 3
   },
   "file_extension": ".py",
   "mimetype": "text/x-python",
   "name": "python",
   "nbconvert_exporter": "python",
   "pygments_lexer": "ipython3",
   "version": "3.8.7"
  }
 },
 "nbformat": 4,
 "nbformat_minor": 5
}
