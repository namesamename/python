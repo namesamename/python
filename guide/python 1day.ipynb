{
 "cells": [
  {
   "cell_type": "code",
   "execution_count": 1,
   "id": "94ec6de5",
   "metadata": {},
   "outputs": [
    {
     "name": "stdout",
     "output_type": "stream",
     "text": [
      "집에 가고 싶다\n"
     ]
    }
   ],
   "source": [
    "print('집에 가고 싶다')"
   ]
  },
  {
   "cell_type": "code",
   "execution_count": 2,
   "id": "72a5278e",
   "metadata": {},
   "outputs": [
    {
     "data": {
      "text/plain": [
       "15442131213"
      ]
     },
     "execution_count": 2,
     "metadata": {},
     "output_type": "execute_result"
    }
   ],
   "source": [
    "15442131213"
   ]
  },
  {
   "cell_type": "code",
   "execution_count": 3,
   "id": "883a6830",
   "metadata": {},
   "outputs": [
    {
     "ename": "SyntaxError",
     "evalue": "invalid syntax (3479439069.py, line 1)",
     "output_type": "error",
     "traceback": [
      "\u001b[1;36m  Input \u001b[1;32mIn [3]\u001b[1;36m\u001b[0m\n\u001b[1;33m    python 오늘부터 공부하기\u001b[0m\n\u001b[1;37m           ^\u001b[0m\n\u001b[1;31mSyntaxError\u001b[0m\u001b[1;31m:\u001b[0m invalid syntax\n"
     ]
    }
   ],
   "source": [
    "python 오늘부터 공부하기"
   ]
  },
  {
   "cell_type": "code",
   "execution_count": null,
   "id": "57ad33a8",
   "metadata": {},
   "outputs": [],
   "source": [
    "#첫번째\n",
    "##두번째\n",
    "###세번째"
   ]
  },
  {
   "cell_type": "markdown",
   "id": "4dcad487",
   "metadata": {},
   "source": [
    "# 첫 번째\n",
    "## 두 번째\n",
    "### 세 번째\n",
    "#### 네 번째\n",
    "##### 다섯 번째"
   ]
  },
  {
   "cell_type": "markdown",
   "id": "d327129b",
   "metadata": {},
   "source": [
    "|-|-|\n"
   ]
  },
  {
   "cell_type": "markdown",
   "id": "f3421b11",
   "metadata": {},
   "source": [
    "ㅇㅇㅇㅇ\n"
   ]
  },
  {
   "cell_type": "code",
   "execution_count": null,
   "id": "3cd26011",
   "metadata": {},
   "outputs": [],
   "source": []
  },
  {
   "cell_type": "code",
   "execution_count": 4,
   "id": "7b91fcb9",
   "metadata": {},
   "outputs": [
    {
     "ename": "SyntaxError",
     "evalue": "invalid syntax (3931819493.py, line 1)",
     "output_type": "error",
     "traceback": [
      "\u001b[1;36m  Input \u001b[1;32mIn [4]\u001b[1;36m\u001b[0m\n\u001b[1;33m    | 표 | 만들기 |\u001b[0m\n\u001b[1;37m    ^\u001b[0m\n\u001b[1;31mSyntaxError\u001b[0m\u001b[1;31m:\u001b[0m invalid syntax\n"
     ]
    }
   ],
   "source": [
    "| 표 | 만들기 |\n",
    "|-|-|\n",
    "|-|-|\n",
    "|-|-|"
   ]
  },
  {
   "cell_type": "code",
   "execution_count": 6,
   "id": "ae368587",
   "metadata": {},
   "outputs": [
    {
     "ename": "SyntaxError",
     "evalue": "invalid syntax (2345628725.py, line 1)",
     "output_type": "error",
     "traceback": [
      "\u001b[1;36m  Input \u001b[1;32mIn [6]\u001b[1;36m\u001b[0m\n\u001b[1;33m    | 표 | 만들기 |\u001b[0m\n\u001b[1;37m    ^\u001b[0m\n\u001b[1;31mSyntaxError\u001b[0m\u001b[1;31m:\u001b[0m invalid syntax\n"
     ]
    }
   ],
   "source": [
    "| 표 | 만들기 |\n",
    "| 집 | 에 |\n",
    "| 가 | 고 |\n",
    "| 싶 | 다 |"
   ]
  },
  {
   "cell_type": "code",
   "execution_count": 7,
   "id": "38cb82bd",
   "metadata": {},
   "outputs": [
    {
     "ename": "SyntaxError",
     "evalue": "invalid syntax (1361163172.py, line 1)",
     "output_type": "error",
     "traceback": [
      "\u001b[1;36m  Input \u001b[1;32mIn [7]\u001b[1;36m\u001b[0m\n\u001b[1;33m    | 표 | 만들기 |\u001b[0m\n\u001b[1;37m    ^\u001b[0m\n\u001b[1;31mSyntaxError\u001b[0m\u001b[1;31m:\u001b[0m invalid syntax\n"
     ]
    }
   ],
   "source": [
    "| 표 | 만들기 |\n",
    "| 집 | 에 |\n",
    "| 가 | 고 |\n",
    "| 싶 | 다 |\n"
   ]
  },
  {
   "cell_type": "code",
   "execution_count": 8,
   "id": "aa4372a0",
   "metadata": {},
   "outputs": [
    {
     "ename": "SyntaxError",
     "evalue": "invalid syntax (316914012.py, line 1)",
     "output_type": "error",
     "traceback": [
      "\u001b[1;36m  Input \u001b[1;32mIn [8]\u001b[1;36m\u001b[0m\n\u001b[1;33m    |집|에|가|고|싶|다|\u001b[0m\n\u001b[1;37m    ^\u001b[0m\n\u001b[1;31mSyntaxError\u001b[0m\u001b[1;31m:\u001b[0m invalid syntax\n"
     ]
    }
   ],
   "source": [
    "|집|에|가|고|싶|다|"
   ]
  },
  {
   "cell_type": "code",
   "execution_count": null,
   "id": "07de5a69",
   "metadata": {},
   "outputs": [],
   "source": []
  }
 ],
 "metadata": {
  "kernelspec": {
   "display_name": "Python 3 (ipykernel)",
   "language": "python",
   "name": "python3"
  },
  "language_info": {
   "codemirror_mode": {
    "name": "ipython",
    "version": 3
   },
   "file_extension": ".py",
   "mimetype": "text/x-python",
   "name": "python",
   "nbconvert_exporter": "python",
   "pygments_lexer": "ipython3",
   "version": "3.8.7"
  }
 },
 "nbformat": 4,
 "nbformat_minor": 5
}
