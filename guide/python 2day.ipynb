{
 "cells": [
  {
   "cell_type": "markdown",
   "id": "dcdb52e6",
   "metadata": {},
   "source": [
    "| 현재 | 심정 |\n",
    "|-|-|\n",
    "|벌써|-|\n",
    "|집에|-|\n",
    "|가고|-|\n",
    "|싶다|-|"
   ]
  },
  {
   "cell_type": "code",
   "execution_count": 1,
   "id": "e07edf17",
   "metadata": {},
   "outputs": [
    {
     "name": "stdout",
     "output_type": "stream",
     "text": [
      "Writing 오늘의환율.py\n"
     ]
    }
   ],
   "source": [
    "%%writefile 오늘의환율.py\n",
    "\n",
    "# 네이버 금융 홈페이지에서 환율정보 가져오기\n",
    "\n",
    "from bs4 import BeautifulSoup   \n",
    "import urllib.request as req\n",
    "\n",
    "# HTML 가져오기\n",
    "url = \"https://finance.naver.com/marketindex/\"\n",
    "res = req.urlopen(url)\n",
    "\n",
    "# HTML 분석하기\n",
    "soup = BeautifulSoup(res, \"html.parser\")\n",
    "\n",
    "# 원하는 데이터 추출하기 --- (※1)\n",
    "results = soup.select(\"span.value\")\n",
    "print(\"달러 =\", results[0].string+\"원\")\n",
    "print(\"위안 =\", results[3].string+\"원\")\n",
    "print(\"유로 =\", results[2].string+\"원\")\n",
    "\n",
    "input(\"엔터를 누르면 종료됩니다\")"
   ]
  },
  {
   "cell_type": "code",
   "execution_count": 3,
   "id": "ee07495d",
   "metadata": {},
   "outputs": [
    {
     "name": "stdout",
     "output_type": "stream",
     "text": [
      "Overwriting 나무.py\n"
     ]
    }
   ],
   "source": [
    "%%writefile 나무.py\n",
    "\n",
    "# 출력창은 최대화해주세요\n",
    "\n",
    "import turtle       \n",
    "import random\n",
    " \n",
    "def tree(length):\n",
    "    angle = (random.randint(-20,20))\n",
    "    if length > 5:                                     \n",
    "        t.forward(length)                              \n",
    "        t.right(20 + angle)                            \n",
    "        tree(length-15 *(random.random()+0.4))         \n",
    "        t.left(40 + (angle * 2))                       \n",
    "        tree(length-15 *(random.random()+0.4))         \n",
    "        t.right(20 + angle)                            \n",
    "        t.backward(length)                             \n",
    "\n",
    "t = turtle.Turtle()\n",
    "t.left(90)\n",
    "\n",
    "t.color(\"green\")\n",
    "#t.speed(0)\n",
    "tree(90)"
   ]
  },
  {
   "cell_type": "markdown",
   "id": "d420fa1e",
   "metadata": {},
   "source": [
    "### Python 자료형\n",
    "\n",
    "1. int(): 정수형 - 소수점 없는 숫자\n",
    "2. float(): 소수형 - 소수점 있는 숫자\n",
    "3. str(): 문자열 - 따옴표로 묶는다\n",
    "4. bool(): 불린 - 결과를 true 또는 false로 판단한다\n",
    "\n",
    "    true = 참, yes, on, enable, 1\n",
    "    / false = 거짓, no, off, disable, 0\n",
    "    \n",
    "    \n",
    "### 하나의 변수에는 하나의 값만 대입할 수 있다\n",
    "\n",
    "1. list(): [] 대괄호 표기 - 수정 가능\n",
    "2. tuple(): () 소괄호 표기 - 수정 불가능 (ex. GPS 좌표 등)\n",
    "3. dictionary(): {} 중괄호 표기\n",
    "4. set(): 집합 연산(합집합, 교집합, 차집합, 중복 제거 등)"
   ]
  },
  {
   "cell_type": "markdown",
   "id": "7f8658c1",
   "metadata": {},
   "source": [
    "## 실습1: 정수 int()\n",
    "소수점을 사용하지 않는다.\n",
    "\n",
    "input(): 사용자에게 값을 입력 받는다. 사용자가 값을 입력한 후 enter를 눌러야 종료된다. enter를 누르지 않을 경우 무한 대기 상태이며, 에러가 발생될 수 있다. 사용자가 입력하는 값은 무조건 문자로 처리한다."
   ]
  },
  {
   "cell_type": "code",
   "execution_count": 5,
   "id": "37fbbb6b",
   "metadata": {},
   "outputs": [
    {
     "name": "stdout",
     "output_type": "stream",
     "text": [
      "나이가 어떻게 되시나요? 100\n"
     ]
    }
   ],
   "source": [
    "age = input('나이가 어떻게 되시나요? ')"
   ]
  },
  {
   "cell_type": "code",
   "execution_count": 3,
   "id": "d82ca02d",
   "metadata": {},
   "outputs": [
    {
     "data": {
      "text/plain": [
       "str"
      ]
     },
     "execution_count": 3,
     "metadata": {},
     "output_type": "execute_result"
    }
   ],
   "source": [
    "type(age)"
   ]
  },
  {
   "cell_type": "code",
   "execution_count": 6,
   "id": "da2718fe",
   "metadata": {},
   "outputs": [
    {
     "name": "stdout",
     "output_type": "stream",
     "text": [
      "100\n"
     ]
    }
   ],
   "source": [
    "print(age)"
   ]
  },
  {
   "cell_type": "code",
   "execution_count": 7,
   "id": "181f62ee",
   "metadata": {},
   "outputs": [],
   "source": [
    "a=10\n",
    "b=3.14\n",
    "c='파이썬'\n",
    "d=\"JAVA\"\n",
    "e=True\n",
    "f=False"
   ]
  },
  {
   "cell_type": "code",
   "execution_count": 10,
   "id": "4aa1a9c6",
   "metadata": {},
   "outputs": [
    {
     "name": "stdout",
     "output_type": "stream",
     "text": [
      "변수 a의 자료형은: <class 'int'>\n",
      "변수 b의 자료형은: <class 'float'>\n",
      "변수 c의 자료형은: <class 'str'>\n",
      "변수 d의 자료형은: <class 'str'>\n",
      "변수 e의 자료형은: <class 'bool'>\n",
      "변수 f의 자료형은: <class 'bool'>\n"
     ]
    }
   ],
   "source": [
    "print('변수 a의 자료형은:',type(a))\n",
    "print('변수 b의 자료형은:',type(b))\n",
    "print('변수 c의 자료형은:',type(c))\n",
    "print('변수 d의 자료형은:',type(d))\n",
    "print('변수 e의 자료형은:',type(e))\n",
    "print('변수 f의 자료형은:',type(f))"
   ]
  },
  {
   "cell_type": "code",
   "execution_count": 11,
   "id": "daf092e3",
   "metadata": {},
   "outputs": [
    {
     "name": "stdout",
     "output_type": "stream",
     "text": [
      "10 3.14 파이썬 JAVA True False\n"
     ]
    }
   ],
   "source": [
    "print(a,b,c,d,e,f)"
   ]
  },
  {
   "cell_type": "code",
   "execution_count": 15,
   "id": "9466f255",
   "metadata": {},
   "outputs": [
    {
     "name": "stdout",
     "output_type": "stream",
     "text": [
      "\n",
      "     a,\n",
      "     b,\n",
      "     c,\n",
      "     d,\n",
      "     e,\n",
      "     f\n"
     ]
    }
   ],
   "source": [
    "print('''\n",
    "     a,\n",
    "     b,\n",
    "     c,\n",
    "     d,\n",
    "     e,\n",
    "     f''')"
   ]
  },
  {
   "cell_type": "code",
   "execution_count": 16,
   "id": "41de344e",
   "metadata": {},
   "outputs": [],
   "source": [
    "#리스트는 대괄호 안에 여러 개의 값을 콤마(,)기호로 구분한다.\n",
    "\n",
    "l=[1,2,3,4,5]"
   ]
  },
  {
   "cell_type": "code",
   "execution_count": 17,
   "id": "59f0f7aa",
   "metadata": {},
   "outputs": [
    {
     "name": "stdout",
     "output_type": "stream",
     "text": [
      "[1, 2, 3, 4, 5]\n"
     ]
    }
   ],
   "source": [
    "print(l)"
   ]
  },
  {
   "cell_type": "code",
   "execution_count": 18,
   "id": "cd37dbab",
   "metadata": {},
   "outputs": [
    {
     "name": "stdout",
     "output_type": "stream",
     "text": [
      "<class 'list'>\n"
     ]
    }
   ],
   "source": [
    "print(type(l))"
   ]
  },
  {
   "cell_type": "code",
   "execution_count": 19,
   "id": "b9e50627",
   "metadata": {},
   "outputs": [],
   "source": [
    "#괄호 없이 콤마 기호\n",
    "z=1,2,3,4,5"
   ]
  },
  {
   "cell_type": "code",
   "execution_count": 20,
   "id": "3826fe44",
   "metadata": {},
   "outputs": [
    {
     "data": {
      "text/plain": [
       "tuple"
      ]
     },
     "execution_count": 20,
     "metadata": {},
     "output_type": "execute_result"
    }
   ],
   "source": [
    "type(z)"
   ]
  },
  {
   "cell_type": "code",
   "execution_count": 21,
   "id": "cbcfc3df",
   "metadata": {},
   "outputs": [],
   "source": [
    "dict={'이름':'이지은','나이':20}"
   ]
  },
  {
   "cell_type": "code",
   "execution_count": 22,
   "id": "61853146",
   "metadata": {},
   "outputs": [
    {
     "name": "stdout",
     "output_type": "stream",
     "text": [
      "{'이름': '이지은', '나이': 20}\n"
     ]
    }
   ],
   "source": [
    "print(dict)"
   ]
  },
  {
   "cell_type": "code",
   "execution_count": 23,
   "id": "50e8df5b",
   "metadata": {},
   "outputs": [
    {
     "data": {
      "text/plain": [
       "dict"
      ]
     },
     "execution_count": 23,
     "metadata": {},
     "output_type": "execute_result"
    }
   ],
   "source": [
    "type(dict)"
   ]
  },
  {
   "cell_type": "markdown",
   "id": "a880d55b",
   "metadata": {},
   "source": [
    "### 메모리 주소를 알려주는 id() 함수"
   ]
  },
  {
   "cell_type": "code",
   "execution_count": 25,
   "id": "f2d4f959",
   "metadata": {},
   "outputs": [
    {
     "name": "stdout",
     "output_type": "stream",
     "text": [
      "140704601081552\n",
      "140704601081552\n",
      "140704601081584\n"
     ]
    }
   ],
   "source": [
    "a=1+1\n",
    "b=1+1\n",
    "c=1+2\n",
    "print(id(a))\n",
    "print(id(b))\n",
    "print(id(c))"
   ]
  },
  {
   "cell_type": "code",
   "execution_count": 27,
   "id": "6d46f5b9",
   "metadata": {},
   "outputs": [
    {
     "name": "stdout",
     "output_type": "stream",
     "text": [
      "이름이 뭐예요? ㅇㅈㅇ\n",
      "나이는 몇 살이에요? 25\n",
      "전화번호를 적어주세요. 6346\n"
     ]
    }
   ],
   "source": [
    "이름=input('이름이 뭐예요? ')\n",
    "나이=input('나이는 몇 살이에요? ')\n",
    "전화번호=input('전화번호를 적어주세요. ')"
   ]
  },
  {
   "cell_type": "code",
   "execution_count": 28,
   "id": "157d7b21",
   "metadata": {},
   "outputs": [
    {
     "name": "stdout",
     "output_type": "stream",
     "text": [
      "ㅇㅈㅇ 25 6346\n"
     ]
    }
   ],
   "source": [
    "print(이름,나이,전화번호)"
   ]
  },
  {
   "cell_type": "code",
   "execution_count": 39,
   "id": "e195b029",
   "metadata": {},
   "outputs": [
    {
     "name": "stdout",
     "output_type": "stream",
     "text": [
      "숫자 입력 1 100\n",
      "숫자 입력 2 200\n",
      "100와 200의 합은 300 입니다.\n"
     ]
    }
   ],
   "source": [
    "num1=input('숫자 입력 1 ')\n",
    "num1=int(num1)\n",
    "num2=input('숫자 입력 2 ')\n",
    "num2=int(num2)\n",
    "num3=num1+num2\n",
    "\n",
    "print('%d와 %d의 합은 %d입니다.' %(num1,num2,num3))\n",
    "#print('{}와 {}의 합은 {}입니다.'.format(num1,num2,num3))\n",
    "#print('{num1}와 {num2}의 합은 {num3}입니다.')\n",
    "#print(num1+'와',num2+'의 합은',num3+'입니다.')"
   ]
  },
  {
   "cell_type": "code",
   "execution_count": 40,
   "id": "b4bfa1d7",
   "metadata": {},
   "outputs": [
    {
     "name": "stdout",
     "output_type": "stream",
     "text": [
      "1 2 3 4 5\n"
     ]
    }
   ],
   "source": [
    "print(1,2,3,4,5)"
   ]
  },
  {
   "cell_type": "code",
   "execution_count": 42,
   "id": "5d7d1a64",
   "metadata": {},
   "outputs": [
    {
     "name": "stdout",
     "output_type": "stream",
     "text": [
      "1, 2, 3, 4, 5\n"
     ]
    }
   ],
   "source": [
    "print(1,2,3,4,5,sep=', ')"
   ]
  },
  {
   "cell_type": "code",
   "execution_count": 43,
   "id": "5fdd4189",
   "metadata": {},
   "outputs": [
    {
     "name": "stdout",
     "output_type": "stream",
     "text": [
      "1\n",
      "2\n",
      "3\n",
      "4\n",
      "5\n"
     ]
    }
   ],
   "source": [
    "print(1,2,3,4,5,sep='\\n')"
   ]
  },
  {
   "cell_type": "code",
   "execution_count": 44,
   "id": "0b8e8b08",
   "metadata": {},
   "outputs": [
    {
     "name": "stdout",
     "output_type": "stream",
     "text": [
      "1\n",
      "2\n",
      "3\n",
      "4\n",
      "5\n"
     ]
    }
   ],
   "source": [
    "print('''1\n",
    "2\n",
    "3\n",
    "4\n",
    "5''')"
   ]
  },
  {
   "cell_type": "markdown",
   "id": "6dcf4aaf",
   "metadata": {},
   "source": [
    "| 이스케이프문자 | 설명 |\n",
    "|-|-|\n",
    "|\\n|enter|\n",
    "|\\t|tab|\n",
    "|\\r|캐리지 리턴(커서를 라인 앞으로 보낸다.)|"
   ]
  },
  {
   "cell_type": "code",
   "execution_count": 45,
   "id": "d5d8395e",
   "metadata": {},
   "outputs": [
    {
     "name": "stdout",
     "output_type": "stream",
     "text": [
      "1\t2\t3\t4\t5\n"
     ]
    }
   ],
   "source": [
    "print(1,2,3,4,5,sep='\\t')"
   ]
  },
  {
   "cell_type": "code",
   "execution_count": 46,
   "id": "6fc601b4",
   "metadata": {},
   "outputs": [
    {
     "name": "stdout",
     "output_type": "stream",
     "text": [
      "이름\t나이\t전화번호\n"
     ]
    }
   ],
   "source": [
    "print('이름','나이','전화번호',sep='\\t')"
   ]
  },
  {
   "cell_type": "code",
   "execution_count": 47,
   "id": "2dfbd038",
   "metadata": {},
   "outputs": [
    {
     "name": "stdout",
     "output_type": "stream",
     "text": [
      "이름\t\t나이\t\t전화번호\n"
     ]
    }
   ],
   "source": [
    "print('이름','나이','전화번호',sep='\\t\\t')"
   ]
  },
  {
   "cell_type": "code",
   "execution_count": 48,
   "id": "425cc269",
   "metadata": {},
   "outputs": [
    {
     "name": "stdout",
     "output_type": "stream",
     "text": [
      "1 2\n",
      "3 4\n"
     ]
    }
   ],
   "source": [
    "print(1,2)\n",
    "print(3,4)"
   ]
  },
  {
   "cell_type": "code",
   "execution_count": 50,
   "id": "01b71b2a",
   "metadata": {},
   "outputs": [
    {
     "name": "stdout",
     "output_type": "stream",
     "text": [
      "1 2 3 4\n"
     ]
    }
   ],
   "source": [
    "print(1,2,end=' ')\n",
    "print(3,4)"
   ]
  },
  {
   "cell_type": "code",
   "execution_count": 54,
   "id": "cb21b87c",
   "metadata": {},
   "outputs": [
    {
     "name": "stdout",
     "output_type": "stream",
     "text": [
      "0 1 2 3 4 5 6 7 8 9 10 11 12 13 14 15 16 17 18 19 20 21 22 23 24 25 26 27 28 29 30 31 32 33 34 35 36 37 38 39 40 41 42 43 44 45 46 47 48 49 50 51 52 53 54 55 56 57 58 59 60 61 62 63 64 65 66 67 68 69 70 71 72 73 74 75 76 77 78 79 80 81 82 83 84 85 86 87 88 89 90 91 92 93 94 95 96 97 98 99 "
     ]
    }
   ],
   "source": [
    "for i in range(100) :\n",
    "    print(i,end=' ')"
   ]
  },
  {
   "cell_type": "markdown",
   "id": "6eb16e48",
   "metadata": {},
   "source": [
    "## print(): 출력\n",
    "\n",
    "1. print(f'') -----> format string 출력 방식\n",
    "2. print(''.format()) -----> format 함수 출력 방식\n",
    "3. sep 연산자 사용법\n",
    "4. end 연산자 사용법"
   ]
  },
  {
   "cell_type": "code",
   "execution_count": 63,
   "id": "cfd8a126",
   "metadata": {},
   "outputs": [
    {
     "name": "stdout",
     "output_type": "stream",
     "text": [
      "당신의 나이는 몇 살입니까? 21\n",
      "당신은 2002년생입니다.\n",
      "올해 만으로 20세 입니다.\n"
     ]
    }
   ],
   "source": [
    "age=input('당신의 나이는 몇 살입니까? ')\n",
    "age=int(age)\n",
    "year=2022-age+1\n",
    "\n",
    "print('''당신은 {}년생입니다.\n",
    "올해 만으로 {}세 입니다.'''.format(year,age-1))"
   ]
  },
  {
   "cell_type": "code",
   "execution_count": 75,
   "id": "1fe180d3",
   "metadata": {},
   "outputs": [
    {
     "name": "stdout",
     "output_type": "stream",
     "text": [
      "Writing 체지방계산기.py\n"
     ]
    }
   ],
   "source": [
    "%%writefile 체지방계산기.py\n",
    "\n",
    "name=input('성함을 입력해주세요.')\n",
    "height=input('신장을 입력해주세요.')\n",
    "height=int(float(height))\n",
    "weight=float(input('체중을 입력해주세요.'))\n",
    "\n",
    "print('''신장: {}cm\n",
    "체중: {}kg'''.format(height,weight))\n",
    "\n",
    "bmi=weight/(height/100)**2\n",
    "\n",
    "print('BMI 지수는 {0:.1f}입니다.'.format(bmi))\n",
    "\n",
    "input('엔터를 눌러야 종료됩니다.')"
   ]
  },
  {
   "cell_type": "code",
   "execution_count": null,
   "id": "37206a61",
   "metadata": {},
   "outputs": [],
   "source": []
  }
 ],
 "metadata": {
  "kernelspec": {
   "display_name": "Python 3 (ipykernel)",
   "language": "python",
   "name": "python3"
  },
  "language_info": {
   "codemirror_mode": {
    "name": "ipython",
    "version": 3
   },
   "file_extension": ".py",
   "mimetype": "text/x-python",
   "name": "python",
   "nbconvert_exporter": "python",
   "pygments_lexer": "ipython3",
   "version": "3.8.7"
  }
 },
 "nbformat": 4,
 "nbformat_minor": 5
}
